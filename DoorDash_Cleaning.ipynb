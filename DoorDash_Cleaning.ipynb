{
 "cells": [
  {
   "cell_type": "code",
   "execution_count": 1,
   "metadata": {},
   "outputs": [],
   "source": [
    "import pandas as pd\n",
    "import numpy as np\n",
    "pd.options.display.max_columns=45 #to see all columns\n",
    "import matplotlib.pyplot as plt\n",
    "%matplotlib inline"
   ]
  },
  {
   "cell_type": "code",
   "execution_count": 2,
   "metadata": {},
   "outputs": [],
   "source": [
    "# Read the data that was scraped earlier into Pandas Data frame\n",
    "df = pd.read_csv('DoorDash_data.csv')"
   ]
  },
  {
   "cell_type": "code",
   "execution_count": 3,
   "metadata": {},
   "outputs": [
    {
     "data": {
      "text/plain": [
       "(1421799, 36)"
      ]
     },
     "execution_count": 3,
     "metadata": {},
     "output_type": "execute_result"
    }
   ],
   "source": [
    "# Let's have look a the shape\n",
    "df.shape"
   ]
  },
  {
   "cell_type": "code",
   "execution_count": 4,
   "metadata": {},
   "outputs": [
    {
     "data": {
      "text/plain": [
       "array(['en', 'nl', 'und', 'it', 'es', 'hi', 'et', 'tl', 'fa', 'in', 'ca',\n",
       "       'ht', 'zh', 'de', 'pt', 'tr', 'fr', 'ja', 'pl', 'ru', 'ar', 'cy',\n",
       "       'is', 'th', 'iw', 'sv', 'lv', 'da', 'ko', 'hu', 'fi', 'no', 'lt',\n",
       "       'el', 'sl', 'ro', 'uk', 'cs', 'vi', 'bg', 'km', 'hy', 'eu', 'ta',\n",
       "       'ur', 'pa', 'te', 'mr', 'bn'], dtype=object)"
      ]
     },
     "execution_count": 4,
     "metadata": {},
     "output_type": "execute_result"
    }
   ],
   "source": [
    "# let's have a ook at the tweet languages\n",
    "df['language'].unique()"
   ]
  },
  {
   "cell_type": "code",
   "execution_count": 5,
   "metadata": {},
   "outputs": [],
   "source": [
    "# I want to keep the tweets that has been tweeted in English language, since it is going to be a English NLP Project\n",
    "df_en = df.loc[df['language']=='en']"
   ]
  },
  {
   "cell_type": "code",
   "execution_count": 6,
   "metadata": {
    "scrolled": true
   },
   "outputs": [
    {
     "data": {
      "text/plain": [
       "(1349546, 36)"
      ]
     },
     "execution_count": 6,
     "metadata": {},
     "output_type": "execute_result"
    }
   ],
   "source": [
    "# Let's have a look at the shape now again.\n",
    "df_en.shape"
   ]
  },
  {
   "cell_type": "code",
   "execution_count": 7,
   "metadata": {
    "scrolled": true
   },
   "outputs": [
    {
     "data": {
      "text/html": [
       "<div>\n",
       "<style scoped>\n",
       "    .dataframe tbody tr th:only-of-type {\n",
       "        vertical-align: middle;\n",
       "    }\n",
       "\n",
       "    .dataframe tbody tr th {\n",
       "        vertical-align: top;\n",
       "    }\n",
       "\n",
       "    .dataframe thead th {\n",
       "        text-align: right;\n",
       "    }\n",
       "</style>\n",
       "<table border=\"1\" class=\"dataframe\">\n",
       "  <thead>\n",
       "    <tr style=\"text-align: right;\">\n",
       "      <th></th>\n",
       "      <th>id</th>\n",
       "      <th>conversation_id</th>\n",
       "      <th>created_at</th>\n",
       "      <th>date</th>\n",
       "      <th>time</th>\n",
       "      <th>timezone</th>\n",
       "      <th>user_id</th>\n",
       "      <th>username</th>\n",
       "      <th>name</th>\n",
       "      <th>place</th>\n",
       "      <th>tweet</th>\n",
       "      <th>language</th>\n",
       "      <th>mentions</th>\n",
       "      <th>urls</th>\n",
       "      <th>photos</th>\n",
       "      <th>replies_count</th>\n",
       "      <th>retweets_count</th>\n",
       "      <th>likes_count</th>\n",
       "      <th>hashtags</th>\n",
       "      <th>cashtags</th>\n",
       "      <th>link</th>\n",
       "      <th>retweet</th>\n",
       "      <th>quote_url</th>\n",
       "      <th>video</th>\n",
       "      <th>thumbnail</th>\n",
       "      <th>near</th>\n",
       "      <th>geo</th>\n",
       "      <th>source</th>\n",
       "      <th>user_rt_id</th>\n",
       "      <th>user_rt</th>\n",
       "      <th>retweet_id</th>\n",
       "      <th>reply_to</th>\n",
       "      <th>retweet_date</th>\n",
       "      <th>translate</th>\n",
       "      <th>trans_src</th>\n",
       "      <th>trans_dest</th>\n",
       "    </tr>\n",
       "  </thead>\n",
       "  <tbody>\n",
       "    <tr>\n",
       "      <th>0</th>\n",
       "      <td>1344432967972761605</td>\n",
       "      <td>1340796614743449602</td>\n",
       "      <td>2020-12-30 18:59:32 EST</td>\n",
       "      <td>2020-12-30</td>\n",
       "      <td>18:59:32</td>\n",
       "      <td>-500</td>\n",
       "      <td>1267918139637071872</td>\n",
       "      <td>ubetnot1</td>\n",
       "      <td>UBetNot</td>\n",
       "      <td>NaN</td>\n",
       "      <td>@FaZeApex @DoorDash That one you got there loo...</td>\n",
       "      <td>en</td>\n",
       "      <td>[]</td>\n",
       "      <td>[]</td>\n",
       "      <td>[]</td>\n",
       "      <td>0</td>\n",
       "      <td>0</td>\n",
       "      <td>0</td>\n",
       "      <td>['starvingagain']</td>\n",
       "      <td>[]</td>\n",
       "      <td>https://twitter.com/UBetNot1/status/1344432967...</td>\n",
       "      <td>False</td>\n",
       "      <td>NaN</td>\n",
       "      <td>0</td>\n",
       "      <td>NaN</td>\n",
       "      <td>NaN</td>\n",
       "      <td>NaN</td>\n",
       "      <td>NaN</td>\n",
       "      <td>NaN</td>\n",
       "      <td>NaN</td>\n",
       "      <td>NaN</td>\n",
       "      <td>[{'screen_name': 'FaZeApex', 'name': 'FaZe Ape...</td>\n",
       "      <td>NaN</td>\n",
       "      <td>NaN</td>\n",
       "      <td>NaN</td>\n",
       "      <td>NaN</td>\n",
       "    </tr>\n",
       "  </tbody>\n",
       "</table>\n",
       "</div>"
      ],
      "text/plain": [
       "                    id      conversation_id               created_at  \\\n",
       "0  1344432967972761605  1340796614743449602  2020-12-30 18:59:32 EST   \n",
       "\n",
       "         date      time  timezone              user_id  username     name  \\\n",
       "0  2020-12-30  18:59:32      -500  1267918139637071872  ubetnot1  UBetNot   \n",
       "\n",
       "  place                                              tweet language mentions  \\\n",
       "0   NaN  @FaZeApex @DoorDash That one you got there loo...       en       []   \n",
       "\n",
       "  urls photos  replies_count  retweets_count  likes_count           hashtags  \\\n",
       "0   []     []              0               0            0  ['starvingagain']   \n",
       "\n",
       "  cashtags                                               link  retweet  \\\n",
       "0       []  https://twitter.com/UBetNot1/status/1344432967...    False   \n",
       "\n",
       "  quote_url  video thumbnail  near  geo  source  user_rt_id  user_rt  \\\n",
       "0       NaN      0       NaN   NaN  NaN     NaN         NaN      NaN   \n",
       "\n",
       "   retweet_id                                           reply_to  \\\n",
       "0         NaN  [{'screen_name': 'FaZeApex', 'name': 'FaZe Ape...   \n",
       "\n",
       "   retweet_date  translate  trans_src  trans_dest  \n",
       "0           NaN        NaN        NaN         NaN  "
      ]
     },
     "execution_count": 7,
     "metadata": {},
     "output_type": "execute_result"
    }
   ],
   "source": [
    "# I will have a look a the first tweet\n",
    "df_en.head(1)"
   ]
  },
  {
   "cell_type": "code",
   "execution_count": 8,
   "metadata": {
    "scrolled": true
   },
   "outputs": [
    {
     "data": {
      "text/html": [
       "<div>\n",
       "<style scoped>\n",
       "    .dataframe tbody tr th:only-of-type {\n",
       "        vertical-align: middle;\n",
       "    }\n",
       "\n",
       "    .dataframe tbody tr th {\n",
       "        vertical-align: top;\n",
       "    }\n",
       "\n",
       "    .dataframe thead th {\n",
       "        text-align: right;\n",
       "    }\n",
       "</style>\n",
       "<table border=\"1\" class=\"dataframe\">\n",
       "  <thead>\n",
       "    <tr style=\"text-align: right;\">\n",
       "      <th></th>\n",
       "      <th>id</th>\n",
       "      <th>conversation_id</th>\n",
       "      <th>created_at</th>\n",
       "      <th>date</th>\n",
       "      <th>time</th>\n",
       "      <th>timezone</th>\n",
       "      <th>user_id</th>\n",
       "      <th>username</th>\n",
       "      <th>name</th>\n",
       "      <th>place</th>\n",
       "      <th>tweet</th>\n",
       "      <th>language</th>\n",
       "      <th>mentions</th>\n",
       "      <th>urls</th>\n",
       "      <th>photos</th>\n",
       "      <th>replies_count</th>\n",
       "      <th>retweets_count</th>\n",
       "      <th>likes_count</th>\n",
       "      <th>hashtags</th>\n",
       "      <th>cashtags</th>\n",
       "      <th>link</th>\n",
       "      <th>retweet</th>\n",
       "      <th>quote_url</th>\n",
       "      <th>video</th>\n",
       "      <th>thumbnail</th>\n",
       "      <th>near</th>\n",
       "      <th>geo</th>\n",
       "      <th>source</th>\n",
       "      <th>user_rt_id</th>\n",
       "      <th>user_rt</th>\n",
       "      <th>retweet_id</th>\n",
       "      <th>reply_to</th>\n",
       "      <th>retweet_date</th>\n",
       "      <th>translate</th>\n",
       "      <th>trans_src</th>\n",
       "      <th>trans_dest</th>\n",
       "    </tr>\n",
       "  </thead>\n",
       "  <tbody>\n",
       "    <tr>\n",
       "      <th>1421798</th>\n",
       "      <td>1079890094889279488</td>\n",
       "      <td>1079890094889279488</td>\n",
       "      <td>2018-12-31 19:00:36 EST</td>\n",
       "      <td>2018-12-31</td>\n",
       "      <td>19:00:36</td>\n",
       "      <td>-500</td>\n",
       "      <td>51031411</td>\n",
       "      <td>spiritstraveler</td>\n",
       "      <td>Marcia Frost</td>\n",
       "      <td>NaN</td>\n",
       "      <td>@DoorDash has done everything  to get out of a...</td>\n",
       "      <td>en</td>\n",
       "      <td>[{'screen_name': 'dennysdiner', 'name': 'denny...</td>\n",
       "      <td>[]</td>\n",
       "      <td>[]</td>\n",
       "      <td>0</td>\n",
       "      <td>0</td>\n",
       "      <td>0</td>\n",
       "      <td>['doordash']</td>\n",
       "      <td>[]</td>\n",
       "      <td>https://twitter.com/SpiritsTraveler/status/107...</td>\n",
       "      <td>False</td>\n",
       "      <td>NaN</td>\n",
       "      <td>0</td>\n",
       "      <td>NaN</td>\n",
       "      <td>NaN</td>\n",
       "      <td>NaN</td>\n",
       "      <td>NaN</td>\n",
       "      <td>NaN</td>\n",
       "      <td>NaN</td>\n",
       "      <td>NaN</td>\n",
       "      <td>[]</td>\n",
       "      <td>NaN</td>\n",
       "      <td>NaN</td>\n",
       "      <td>NaN</td>\n",
       "      <td>NaN</td>\n",
       "    </tr>\n",
       "  </tbody>\n",
       "</table>\n",
       "</div>"
      ],
      "text/plain": [
       "                          id      conversation_id               created_at  \\\n",
       "1421798  1079890094889279488  1079890094889279488  2018-12-31 19:00:36 EST   \n",
       "\n",
       "               date      time  timezone   user_id         username  \\\n",
       "1421798  2018-12-31  19:00:36      -500  51031411  spiritstraveler   \n",
       "\n",
       "                 name place  \\\n",
       "1421798  Marcia Frost   NaN   \n",
       "\n",
       "                                                     tweet language  \\\n",
       "1421798  @DoorDash has done everything  to get out of a...       en   \n",
       "\n",
       "                                                  mentions urls photos  \\\n",
       "1421798  [{'screen_name': 'dennysdiner', 'name': 'denny...   []     []   \n",
       "\n",
       "         replies_count  retweets_count  likes_count      hashtags cashtags  \\\n",
       "1421798              0               0            0  ['doordash']       []   \n",
       "\n",
       "                                                      link  retweet quote_url  \\\n",
       "1421798  https://twitter.com/SpiritsTraveler/status/107...    False       NaN   \n",
       "\n",
       "         video thumbnail  near  geo  source  user_rt_id  user_rt  retweet_id  \\\n",
       "1421798      0       NaN   NaN  NaN     NaN         NaN      NaN         NaN   \n",
       "\n",
       "        reply_to  retweet_date  translate  trans_src  trans_dest  \n",
       "1421798       []           NaN        NaN        NaN         NaN  "
      ]
     },
     "execution_count": 8,
     "metadata": {},
     "output_type": "execute_result"
    }
   ],
   "source": [
    "# I will have a look a the last tweet\n",
    "df_en.tail(1)"
   ]
  },
  {
   "cell_type": "code",
   "execution_count": 9,
   "metadata": {},
   "outputs": [
    {
     "data": {
      "text/plain": [
       "1"
      ]
     },
     "execution_count": 9,
     "metadata": {},
     "output_type": "execute_result"
    }
   ],
   "source": [
    "# I want to check the time zone if all are the same.\n",
    "df_en.timezone.nunique()"
   ]
  },
  {
   "cell_type": "markdown",
   "metadata": {},
   "source": [
    "We only have 1 unique time zone and I think it shows my time zone where I scraped these tweets. Becasue it is same as my time zone."
   ]
  },
  {
   "cell_type": "code",
   "execution_count": 10,
   "metadata": {
    "scrolled": true
   },
   "outputs": [
    {
     "data": {
      "text/plain": [
       "Index(['id', 'conversation_id', 'created_at', 'date', 'time', 'timezone',\n",
       "       'user_id', 'username', 'name', 'place', 'tweet', 'language', 'mentions',\n",
       "       'urls', 'photos', 'replies_count', 'retweets_count', 'likes_count',\n",
       "       'hashtags', 'cashtags', 'link', 'retweet', 'quote_url', 'video',\n",
       "       'thumbnail', 'near', 'geo', 'source', 'user_rt_id', 'user_rt',\n",
       "       'retweet_id', 'reply_to', 'retweet_date', 'translate', 'trans_src',\n",
       "       'trans_dest'],\n",
       "      dtype='object')"
      ]
     },
     "execution_count": 10,
     "metadata": {},
     "output_type": "execute_result"
    }
   ],
   "source": [
    "# Now Except 'created_at', 'username' and 'tweet' itself, I will drop everything else.\n",
    "df_en.columns"
   ]
  },
  {
   "cell_type": "code",
   "execution_count": 12,
   "metadata": {},
   "outputs": [],
   "source": [
    "df_en = df_en.drop(columns=['id', 'conversation_id', 'created_at', 'timezone', \n",
    "       'user_id', 'name', 'place', 'language', 'mentions',\n",
    "       'urls', 'photos', 'replies_count', 'retweets_count', 'likes_count',\n",
    "       'hashtags', 'cashtags', 'link', 'retweet', 'quote_url', 'video',\n",
    "       'thumbnail', 'near', 'geo', 'source', 'user_rt_id', 'user_rt',\n",
    "       'retweet_id', 'reply_to', 'retweet_date', 'translate', 'trans_src',\n",
    "       'trans_dest'])\n",
    "df = df_en.reset_index(drop=True)"
   ]
  },
  {
   "cell_type": "code",
   "execution_count": 13,
   "metadata": {
    "scrolled": false
   },
   "outputs": [
    {
     "data": {
      "text/html": [
       "<div>\n",
       "<style scoped>\n",
       "    .dataframe tbody tr th:only-of-type {\n",
       "        vertical-align: middle;\n",
       "    }\n",
       "\n",
       "    .dataframe tbody tr th {\n",
       "        vertical-align: top;\n",
       "    }\n",
       "\n",
       "    .dataframe thead th {\n",
       "        text-align: right;\n",
       "    }\n",
       "</style>\n",
       "<table border=\"1\" class=\"dataframe\">\n",
       "  <thead>\n",
       "    <tr style=\"text-align: right;\">\n",
       "      <th></th>\n",
       "      <th>date</th>\n",
       "      <th>time</th>\n",
       "      <th>username</th>\n",
       "      <th>tweet</th>\n",
       "    </tr>\n",
       "  </thead>\n",
       "  <tbody>\n",
       "    <tr>\n",
       "      <th>0</th>\n",
       "      <td>2020-12-30</td>\n",
       "      <td>18:59:32</td>\n",
       "      <td>ubetnot1</td>\n",
       "      <td>@FaZeApex @DoorDash That one you got there loo...</td>\n",
       "    </tr>\n",
       "    <tr>\n",
       "      <th>1</th>\n",
       "      <td>2020-12-30</td>\n",
       "      <td>18:58:52</td>\n",
       "      <td>chungdaveeed</td>\n",
       "      <td>@doordash_ i listen while studying</td>\n",
       "    </tr>\n",
       "    <tr>\n",
       "      <th>2</th>\n",
       "      <td>2020-12-30</td>\n",
       "      <td>18:58:41</td>\n",
       "      <td>dida34</td>\n",
       "      <td>Open until 10pm 2115 S State St  https://t.co/...</td>\n",
       "    </tr>\n",
       "    <tr>\n",
       "      <th>3</th>\n",
       "      <td>2020-12-30</td>\n",
       "      <td>18:58:34</td>\n",
       "      <td>mikeyaeger38</td>\n",
       "      <td>Doordash time.</td>\n",
       "    </tr>\n",
       "    <tr>\n",
       "      <th>4</th>\n",
       "      <td>2020-12-30</td>\n",
       "      <td>18:58:26</td>\n",
       "      <td>lebronsleague</td>\n",
       "      <td>@damemorris95 Haha i feel u😂. Always got DoorD...</td>\n",
       "    </tr>\n",
       "  </tbody>\n",
       "</table>\n",
       "</div>"
      ],
      "text/plain": [
       "         date      time       username  \\\n",
       "0  2020-12-30  18:59:32       ubetnot1   \n",
       "1  2020-12-30  18:58:52   chungdaveeed   \n",
       "2  2020-12-30  18:58:41         dida34   \n",
       "3  2020-12-30  18:58:34   mikeyaeger38   \n",
       "4  2020-12-30  18:58:26  lebronsleague   \n",
       "\n",
       "                                               tweet  \n",
       "0  @FaZeApex @DoorDash That one you got there loo...  \n",
       "1                 @doordash_ i listen while studying  \n",
       "2  Open until 10pm 2115 S State St  https://t.co/...  \n",
       "3                                     Doordash time.  \n",
       "4  @damemorris95 Haha i feel u😂. Always got DoorD...  "
      ]
     },
     "execution_count": 13,
     "metadata": {},
     "output_type": "execute_result"
    }
   ],
   "source": [
    "df.head()"
   ]
  },
  {
   "cell_type": "code",
   "execution_count": 14,
   "metadata": {
    "scrolled": true
   },
   "outputs": [
    {
     "data": {
      "text/html": [
       "<div>\n",
       "<style scoped>\n",
       "    .dataframe tbody tr th:only-of-type {\n",
       "        vertical-align: middle;\n",
       "    }\n",
       "\n",
       "    .dataframe tbody tr th {\n",
       "        vertical-align: top;\n",
       "    }\n",
       "\n",
       "    .dataframe thead th {\n",
       "        text-align: right;\n",
       "    }\n",
       "</style>\n",
       "<table border=\"1\" class=\"dataframe\">\n",
       "  <thead>\n",
       "    <tr style=\"text-align: right;\">\n",
       "      <th></th>\n",
       "      <th>date</th>\n",
       "      <th>time</th>\n",
       "      <th>username</th>\n",
       "      <th>tweet</th>\n",
       "    </tr>\n",
       "  </thead>\n",
       "  <tbody>\n",
       "    <tr>\n",
       "      <th>1349541</th>\n",
       "      <td>2018-12-31</td>\n",
       "      <td>19:02:48</td>\n",
       "      <td>blondienboots</td>\n",
       "      <td>@DoorDash should have live dash cams 👏👏👏</td>\n",
       "    </tr>\n",
       "    <tr>\n",
       "      <th>1349542</th>\n",
       "      <td>2018-12-31</td>\n",
       "      <td>19:02:43</td>\n",
       "      <td>_thelindsaye</td>\n",
       "      <td>@BaldheadedBri doordash me that 🐱</td>\n",
       "    </tr>\n",
       "    <tr>\n",
       "      <th>1349543</th>\n",
       "      <td>2018-12-31</td>\n",
       "      <td>19:02:05</td>\n",
       "      <td>campbellannie</td>\n",
       "      <td>You should try DoorDash, it's an awesome food ...</td>\n",
       "    </tr>\n",
       "    <tr>\n",
       "      <th>1349544</th>\n",
       "      <td>2018-12-31</td>\n",
       "      <td>19:01:48</td>\n",
       "      <td>iamlaurenklahm</td>\n",
       "      <td>@DoorDash and disney movies! yes please! 😍😍</td>\n",
       "    </tr>\n",
       "    <tr>\n",
       "      <th>1349545</th>\n",
       "      <td>2018-12-31</td>\n",
       "      <td>19:00:36</td>\n",
       "      <td>spiritstraveler</td>\n",
       "      <td>@DoorDash has done everything  to get out of a...</td>\n",
       "    </tr>\n",
       "  </tbody>\n",
       "</table>\n",
       "</div>"
      ],
      "text/plain": [
       "               date      time         username  \\\n",
       "1349541  2018-12-31  19:02:48    blondienboots   \n",
       "1349542  2018-12-31  19:02:43     _thelindsaye   \n",
       "1349543  2018-12-31  19:02:05    campbellannie   \n",
       "1349544  2018-12-31  19:01:48   iamlaurenklahm   \n",
       "1349545  2018-12-31  19:00:36  spiritstraveler   \n",
       "\n",
       "                                                     tweet  \n",
       "1349541           @DoorDash should have live dash cams 👏👏👏  \n",
       "1349542                  @BaldheadedBri doordash me that 🐱  \n",
       "1349543  You should try DoorDash, it's an awesome food ...  \n",
       "1349544        @DoorDash and disney movies! yes please! 😍😍  \n",
       "1349545  @DoorDash has done everything  to get out of a...  "
      ]
     },
     "execution_count": 14,
     "metadata": {},
     "output_type": "execute_result"
    }
   ],
   "source": [
    "df.tail()"
   ]
  },
  {
   "cell_type": "code",
   "execution_count": 15,
   "metadata": {
    "scrolled": true
   },
   "outputs": [
    {
     "name": "stdout",
     "output_type": "stream",
     "text": [
      "<class 'pandas.core.frame.DataFrame'>\n",
      "RangeIndex: 1349546 entries, 0 to 1349545\n",
      "Data columns (total 4 columns):\n",
      " #   Column    Non-Null Count    Dtype \n",
      "---  ------    --------------    ----- \n",
      " 0   date      1349546 non-null  object\n",
      " 1   time      1349546 non-null  object\n",
      " 2   username  1349545 non-null  object\n",
      " 3   tweet     1349546 non-null  object\n",
      "dtypes: object(4)\n",
      "memory usage: 41.2+ MB\n"
     ]
    }
   ],
   "source": [
    "# Now let's look at the data type and numbers\n",
    "df.info()"
   ]
  },
  {
   "cell_type": "code",
   "execution_count": 16,
   "metadata": {
    "scrolled": true
   },
   "outputs": [
    {
     "data": {
      "text/html": [
       "<div>\n",
       "<style scoped>\n",
       "    .dataframe tbody tr th:only-of-type {\n",
       "        vertical-align: middle;\n",
       "    }\n",
       "\n",
       "    .dataframe tbody tr th {\n",
       "        vertical-align: top;\n",
       "    }\n",
       "\n",
       "    .dataframe thead th {\n",
       "        text-align: right;\n",
       "    }\n",
       "</style>\n",
       "<table border=\"1\" class=\"dataframe\">\n",
       "  <thead>\n",
       "    <tr style=\"text-align: right;\">\n",
       "      <th></th>\n",
       "      <th>date</th>\n",
       "      <th>time</th>\n",
       "      <th>username</th>\n",
       "      <th>tweet</th>\n",
       "    </tr>\n",
       "  </thead>\n",
       "  <tbody>\n",
       "    <tr>\n",
       "      <th>783597</th>\n",
       "      <td>2020-03-19</td>\n",
       "      <td>07:55:37</td>\n",
       "      <td>NaN</td>\n",
       "      <td>If you use certain @Chase cards, you’ve got sp...</td>\n",
       "    </tr>\n",
       "  </tbody>\n",
       "</table>\n",
       "</div>"
      ],
      "text/plain": [
       "              date      time username  \\\n",
       "783597  2020-03-19  07:55:37      NaN   \n",
       "\n",
       "                                                    tweet  \n",
       "783597  If you use certain @Chase cards, you’ve got sp...  "
      ]
     },
     "execution_count": 16,
     "metadata": {},
     "output_type": "execute_result"
    }
   ],
   "source": [
    "df_en[df_en.isnull().any(axis=1)==True]\n"
   ]
  },
  {
   "cell_type": "code",
   "execution_count": 17,
   "metadata": {
    "scrolled": true
   },
   "outputs": [
    {
     "name": "stdout",
     "output_type": "stream",
     "text": [
      "<class 'pandas.core.frame.DataFrame'>\n",
      "RangeIndex: 1349545 entries, 0 to 1349544\n",
      "Data columns (total 4 columns):\n",
      " #   Column    Non-Null Count    Dtype \n",
      "---  ------    --------------    ----- \n",
      " 0   date      1349545 non-null  object\n",
      " 1   time      1349545 non-null  object\n",
      " 2   username  1349545 non-null  object\n",
      " 3   tweet     1349545 non-null  object\n",
      "dtypes: object(4)\n",
      "memory usage: 41.2+ MB\n"
     ]
    }
   ],
   "source": [
    "# Now let's check null values\n",
    "df=df.dropna(subset=['username'])\n",
    "df = df.reset_index(drop=True)\n",
    "df.info()"
   ]
  },
  {
   "cell_type": "code",
   "execution_count": 18,
   "metadata": {},
   "outputs": [
    {
     "data": {
      "text/plain": [
       "(1349545, 4)"
      ]
     },
     "execution_count": 18,
     "metadata": {},
     "output_type": "execute_result"
    }
   ],
   "source": [
    "# Have a look at the shape\n",
    "df.shape"
   ]
  },
  {
   "cell_type": "code",
   "execution_count": 19,
   "metadata": {
    "scrolled": false
   },
   "outputs": [
    {
     "data": {
      "text/html": [
       "<div>\n",
       "<style scoped>\n",
       "    .dataframe tbody tr th:only-of-type {\n",
       "        vertical-align: middle;\n",
       "    }\n",
       "\n",
       "    .dataframe tbody tr th {\n",
       "        vertical-align: top;\n",
       "    }\n",
       "\n",
       "    .dataframe thead th {\n",
       "        text-align: right;\n",
       "    }\n",
       "</style>\n",
       "<table border=\"1\" class=\"dataframe\">\n",
       "  <thead>\n",
       "    <tr style=\"text-align: right;\">\n",
       "      <th></th>\n",
       "      <th>date</th>\n",
       "      <th>time</th>\n",
       "      <th>username</th>\n",
       "      <th>tweet</th>\n",
       "    </tr>\n",
       "  </thead>\n",
       "  <tbody>\n",
       "    <tr>\n",
       "      <th>0</th>\n",
       "      <td>2020-12-30</td>\n",
       "      <td>18:59:32</td>\n",
       "      <td>ubetnot1</td>\n",
       "      <td>@FaZeApex @DoorDash That one you got there loo...</td>\n",
       "    </tr>\n",
       "    <tr>\n",
       "      <th>1</th>\n",
       "      <td>2020-12-30</td>\n",
       "      <td>18:58:52</td>\n",
       "      <td>chungdaveeed</td>\n",
       "      <td>@doordash_ i listen while studying</td>\n",
       "    </tr>\n",
       "    <tr>\n",
       "      <th>2</th>\n",
       "      <td>2020-12-30</td>\n",
       "      <td>18:58:41</td>\n",
       "      <td>dida34</td>\n",
       "      <td>Open until 10pm 2115 S State St  https://t.co/...</td>\n",
       "    </tr>\n",
       "    <tr>\n",
       "      <th>3</th>\n",
       "      <td>2020-12-30</td>\n",
       "      <td>18:58:34</td>\n",
       "      <td>mikeyaeger38</td>\n",
       "      <td>Doordash time.</td>\n",
       "    </tr>\n",
       "    <tr>\n",
       "      <th>4</th>\n",
       "      <td>2020-12-30</td>\n",
       "      <td>18:58:26</td>\n",
       "      <td>lebronsleague</td>\n",
       "      <td>@damemorris95 Haha i feel u😂. Always got DoorD...</td>\n",
       "    </tr>\n",
       "  </tbody>\n",
       "</table>\n",
       "</div>"
      ],
      "text/plain": [
       "         date      time       username  \\\n",
       "0  2020-12-30  18:59:32       ubetnot1   \n",
       "1  2020-12-30  18:58:52   chungdaveeed   \n",
       "2  2020-12-30  18:58:41         dida34   \n",
       "3  2020-12-30  18:58:34   mikeyaeger38   \n",
       "4  2020-12-30  18:58:26  lebronsleague   \n",
       "\n",
       "                                               tweet  \n",
       "0  @FaZeApex @DoorDash That one you got there loo...  \n",
       "1                 @doordash_ i listen while studying  \n",
       "2  Open until 10pm 2115 S State St  https://t.co/...  \n",
       "3                                     Doordash time.  \n",
       "4  @damemorris95 Haha i feel u😂. Always got DoorD...  "
      ]
     },
     "execution_count": 19,
     "metadata": {},
     "output_type": "execute_result"
    }
   ],
   "source": [
    "df.head()"
   ]
  },
  {
   "cell_type": "code",
   "execution_count": 20,
   "metadata": {},
   "outputs": [
    {
     "data": {
      "text/plain": [
       "'2020-12-30'"
      ]
     },
     "execution_count": 20,
     "metadata": {},
     "output_type": "execute_result"
    }
   ],
   "source": [
    "df['date'][0]"
   ]
  },
  {
   "cell_type": "code",
   "execution_count": 21,
   "metadata": {},
   "outputs": [],
   "source": [
    "df['date_dt'] = pd.to_datetime(df['date'], format='%Y-%m-%d')"
   ]
  },
  {
   "cell_type": "code",
   "execution_count": 22,
   "metadata": {},
   "outputs": [
    {
     "name": "stdout",
     "output_type": "stream",
     "text": [
      "<class 'pandas.core.frame.DataFrame'>\n",
      "RangeIndex: 1349545 entries, 0 to 1349544\n",
      "Data columns (total 5 columns):\n",
      " #   Column    Non-Null Count    Dtype         \n",
      "---  ------    --------------    -----         \n",
      " 0   date      1349545 non-null  object        \n",
      " 1   time      1349545 non-null  object        \n",
      " 2   username  1349545 non-null  object        \n",
      " 3   tweet     1349545 non-null  object        \n",
      " 4   date_dt   1349545 non-null  datetime64[ns]\n",
      "dtypes: datetime64[ns](1), object(4)\n",
      "memory usage: 51.5+ MB\n"
     ]
    }
   ],
   "source": [
    "df.info()"
   ]
  },
  {
   "cell_type": "code",
   "execution_count": 23,
   "metadata": {},
   "outputs": [],
   "source": [
    "df = df.drop(df[df['date']=='NaT'].index)"
   ]
  },
  {
   "cell_type": "code",
   "execution_count": 24,
   "metadata": {
    "scrolled": true
   },
   "outputs": [
    {
     "name": "stdout",
     "output_type": "stream",
     "text": [
      "<class 'pandas.core.frame.DataFrame'>\n",
      "Int64Index: 1349545 entries, 0 to 1349544\n",
      "Data columns (total 5 columns):\n",
      " #   Column    Non-Null Count    Dtype         \n",
      "---  ------    --------------    -----         \n",
      " 0   date      1349545 non-null  object        \n",
      " 1   time      1349545 non-null  object        \n",
      " 2   username  1349545 non-null  object        \n",
      " 3   tweet     1349545 non-null  object        \n",
      " 4   date_dt   1349545 non-null  datetime64[ns]\n",
      "dtypes: datetime64[ns](1), object(4)\n",
      "memory usage: 61.8+ MB\n"
     ]
    }
   ],
   "source": [
    "df.info()"
   ]
  },
  {
   "cell_type": "code",
   "execution_count": 25,
   "metadata": {
    "scrolled": true
   },
   "outputs": [
    {
     "data": {
      "text/plain": [
       "731"
      ]
     },
     "execution_count": 25,
     "metadata": {},
     "output_type": "execute_result"
    }
   ],
   "source": [
    "df['date_dt'].nunique()"
   ]
  },
  {
   "cell_type": "code",
   "execution_count": 26,
   "metadata": {},
   "outputs": [],
   "source": [
    "df['year'] = df['date_dt'].dt.year"
   ]
  },
  {
   "cell_type": "code",
   "execution_count": 27,
   "metadata": {
    "scrolled": false
   },
   "outputs": [
    {
     "data": {
      "text/plain": [
       "2020    856728\n",
       "2019    492511\n",
       "2018       306\n",
       "Name: year, dtype: int64"
      ]
     },
     "execution_count": 27,
     "metadata": {},
     "output_type": "execute_result"
    }
   ],
   "source": [
    "df['year'].value_counts()"
   ]
  },
  {
   "cell_type": "code",
   "execution_count": 28,
   "metadata": {},
   "outputs": [],
   "source": [
    "df.drop(df[df['date']=='NaT'].index)\n",
    "df = df.drop(df[df['year']==2018].index)"
   ]
  },
  {
   "cell_type": "code",
   "execution_count": 29,
   "metadata": {},
   "outputs": [],
   "source": [
    "import matplotlib.pyplot as plt\n",
    "%matplotlib inline"
   ]
  },
  {
   "cell_type": "code",
   "execution_count": 30,
   "metadata": {},
   "outputs": [],
   "source": [
    "import seaborn as sns"
   ]
  },
  {
   "cell_type": "code",
   "execution_count": 31,
   "metadata": {
    "scrolled": true
   },
   "outputs": [
    {
     "data": {
      "image/png": "[encoded data removed]",
      "text/plain": [
       "<Figure size 720x576 with 1 Axes>"
      ]
     },
     "metadata": {
      "needs_background": "light"
     },
     "output_type": "display_data"
    }
   ],
   "source": [
    "plt.figure(figsize=(10,8))\n",
    "ax = sns.countplot(x='year', data=df)"
   ]
  },
  {
   "cell_type": "code",
   "execution_count": 32,
   "metadata": {},
   "outputs": [],
   "source": [
    "df['month_of_year'] = df['date_dt'].dt.month_name()"
   ]
  },
  {
   "cell_type": "code",
   "execution_count": 33,
   "metadata": {},
   "outputs": [
    {
     "data": {
      "text/plain": [
       "'December'"
      ]
     },
     "execution_count": 33,
     "metadata": {},
     "output_type": "execute_result"
    }
   ],
   "source": [
    "df['month_of_year'][0]"
   ]
  },
  {
   "cell_type": "code",
   "execution_count": 34,
   "metadata": {},
   "outputs": [
    {
     "data": {
      "image/png": "[encoded data removed]",
      "text/plain": [
       "<Figure size 720x576 with 1 Axes>"
      ]
     },
     "metadata": {
      "needs_background": "light"
     },
     "output_type": "display_data"
    }
   ],
   "source": [
    "plt.figure(figsize=(10,8))\n",
    "ax = sns.countplot(x='month_of_year', data=df)\n",
    "# reorder month"
   ]
  },
  {
   "cell_type": "code",
   "execution_count": 35,
   "metadata": {},
   "outputs": [],
   "source": [
    "df['day_of_week'] = df['date_dt'].dt.day_name()"
   ]
  },
  {
   "cell_type": "code",
   "execution_count": 36,
   "metadata": {},
   "outputs": [
    {
     "data": {
      "image/png": "[encoded data removed]",
      "text/plain": [
       "<Figure size 720x576 with 1 Axes>"
      ]
     },
     "metadata": {
      "needs_background": "light"
     },
     "output_type": "display_data"
    }
   ],
   "source": [
    "plt.figure(figsize=(10,8))\n",
    "ax = sns.countplot(x='day_of_week', data=df)\n",
    "# reorder day"
   ]
  },
  {
   "cell_type": "code",
   "execution_count": 37,
   "metadata": {},
   "outputs": [],
   "source": [
    "df['time_dt']=pd.to_datetime(df['time'], format='%H:%M:%S')"
   ]
  },
  {
   "cell_type": "code",
   "execution_count": 38,
   "metadata": {},
   "outputs": [
    {
     "name": "stdout",
     "output_type": "stream",
     "text": [
      "<class 'pandas.core.frame.DataFrame'>\n",
      "Int64Index: 1349239 entries, 0 to 1349238\n",
      "Data columns (total 9 columns):\n",
      " #   Column         Non-Null Count    Dtype         \n",
      "---  ------         --------------    -----         \n",
      " 0   date           1349239 non-null  object        \n",
      " 1   time           1349239 non-null  object        \n",
      " 2   username       1349239 non-null  object        \n",
      " 3   tweet          1349239 non-null  object        \n",
      " 4   date_dt        1349239 non-null  datetime64[ns]\n",
      " 5   year           1349239 non-null  int64         \n",
      " 6   month_of_year  1349239 non-null  object        \n",
      " 7   day_of_week    1349239 non-null  object        \n",
      " 8   time_dt        1349239 non-null  datetime64[ns]\n",
      "dtypes: datetime64[ns](2), int64(1), object(6)\n",
      "memory usage: 102.9+ MB\n"
     ]
    }
   ],
   "source": [
    "df.info()"
   ]
  },
  {
   "cell_type": "code",
   "execution_count": 39,
   "metadata": {},
   "outputs": [],
   "source": [
    "df['hour'] = df['time_dt'].dt.hour"
   ]
  },
  {
   "cell_type": "code",
   "execution_count": 40,
   "metadata": {},
   "outputs": [
    {
     "data": {
      "text/html": [
       "<div>\n",
       "<style scoped>\n",
       "    .dataframe tbody tr th:only-of-type {\n",
       "        vertical-align: middle;\n",
       "    }\n",
       "\n",
       "    .dataframe tbody tr th {\n",
       "        vertical-align: top;\n",
       "    }\n",
       "\n",
       "    .dataframe thead th {\n",
       "        text-align: right;\n",
       "    }\n",
       "</style>\n",
       "<table border=\"1\" class=\"dataframe\">\n",
       "  <thead>\n",
       "    <tr style=\"text-align: right;\">\n",
       "      <th></th>\n",
       "      <th>date</th>\n",
       "      <th>time</th>\n",
       "      <th>username</th>\n",
       "      <th>tweet</th>\n",
       "      <th>date_dt</th>\n",
       "      <th>year</th>\n",
       "      <th>month_of_year</th>\n",
       "      <th>day_of_week</th>\n",
       "      <th>time_dt</th>\n",
       "      <th>hour</th>\n",
       "    </tr>\n",
       "  </thead>\n",
       "  <tbody>\n",
       "    <tr>\n",
       "      <th>0</th>\n",
       "      <td>2020-12-30</td>\n",
       "      <td>18:59:32</td>\n",
       "      <td>ubetnot1</td>\n",
       "      <td>@FaZeApex @DoorDash That one you got there loo...</td>\n",
       "      <td>2020-12-30</td>\n",
       "      <td>2020</td>\n",
       "      <td>December</td>\n",
       "      <td>Wednesday</td>\n",
       "      <td>1900-01-01 18:59:32</td>\n",
       "      <td>18</td>\n",
       "    </tr>\n",
       "    <tr>\n",
       "      <th>1</th>\n",
       "      <td>2020-12-30</td>\n",
       "      <td>18:58:52</td>\n",
       "      <td>chungdaveeed</td>\n",
       "      <td>@doordash_ i listen while studying</td>\n",
       "      <td>2020-12-30</td>\n",
       "      <td>2020</td>\n",
       "      <td>December</td>\n",
       "      <td>Wednesday</td>\n",
       "      <td>1900-01-01 18:58:52</td>\n",
       "      <td>18</td>\n",
       "    </tr>\n",
       "    <tr>\n",
       "      <th>2</th>\n",
       "      <td>2020-12-30</td>\n",
       "      <td>18:58:41</td>\n",
       "      <td>dida34</td>\n",
       "      <td>Open until 10pm 2115 S State St  https://t.co/...</td>\n",
       "      <td>2020-12-30</td>\n",
       "      <td>2020</td>\n",
       "      <td>December</td>\n",
       "      <td>Wednesday</td>\n",
       "      <td>1900-01-01 18:58:41</td>\n",
       "      <td>18</td>\n",
       "    </tr>\n",
       "    <tr>\n",
       "      <th>3</th>\n",
       "      <td>2020-12-30</td>\n",
       "      <td>18:58:34</td>\n",
       "      <td>mikeyaeger38</td>\n",
       "      <td>Doordash time.</td>\n",
       "      <td>2020-12-30</td>\n",
       "      <td>2020</td>\n",
       "      <td>December</td>\n",
       "      <td>Wednesday</td>\n",
       "      <td>1900-01-01 18:58:34</td>\n",
       "      <td>18</td>\n",
       "    </tr>\n",
       "    <tr>\n",
       "      <th>4</th>\n",
       "      <td>2020-12-30</td>\n",
       "      <td>18:58:26</td>\n",
       "      <td>lebronsleague</td>\n",
       "      <td>@damemorris95 Haha i feel u😂. Always got DoorD...</td>\n",
       "      <td>2020-12-30</td>\n",
       "      <td>2020</td>\n",
       "      <td>December</td>\n",
       "      <td>Wednesday</td>\n",
       "      <td>1900-01-01 18:58:26</td>\n",
       "      <td>18</td>\n",
       "    </tr>\n",
       "  </tbody>\n",
       "</table>\n",
       "</div>"
      ],
      "text/plain": [
       "         date      time       username  \\\n",
       "0  2020-12-30  18:59:32       ubetnot1   \n",
       "1  2020-12-30  18:58:52   chungdaveeed   \n",
       "2  2020-12-30  18:58:41         dida34   \n",
       "3  2020-12-30  18:58:34   mikeyaeger38   \n",
       "4  2020-12-30  18:58:26  lebronsleague   \n",
       "\n",
       "                                               tweet    date_dt  year  \\\n",
       "0  @FaZeApex @DoorDash That one you got there loo... 2020-12-30  2020   \n",
       "1                 @doordash_ i listen while studying 2020-12-30  2020   \n",
       "2  Open until 10pm 2115 S State St  https://t.co/... 2020-12-30  2020   \n",
       "3                                     Doordash time. 2020-12-30  2020   \n",
       "4  @damemorris95 Haha i feel u😂. Always got DoorD... 2020-12-30  2020   \n",
       "\n",
       "  month_of_year day_of_week             time_dt  hour  \n",
       "0      December   Wednesday 1900-01-01 18:59:32    18  \n",
       "1      December   Wednesday 1900-01-01 18:58:52    18  \n",
       "2      December   Wednesday 1900-01-01 18:58:41    18  \n",
       "3      December   Wednesday 1900-01-01 18:58:34    18  \n",
       "4      December   Wednesday 1900-01-01 18:58:26    18  "
      ]
     },
     "execution_count": 40,
     "metadata": {},
     "output_type": "execute_result"
    }
   ],
   "source": [
    "df.head()"
   ]
  },
  {
   "cell_type": "code",
   "execution_count": 41,
   "metadata": {},
   "outputs": [
    {
     "data": {
      "text/plain": [
       "24"
      ]
     },
     "execution_count": 41,
     "metadata": {},
     "output_type": "execute_result"
    }
   ],
   "source": [
    "df['hour'].nunique()"
   ]
  },
  {
   "cell_type": "code",
   "execution_count": 42,
   "metadata": {},
   "outputs": [
    {
     "data": {
      "image/png": "[encoded data removed]",
      "text/plain": [
       "<Figure size 720x576 with 1 Axes>"
      ]
     },
     "metadata": {
      "needs_background": "light"
     },
     "output_type": "display_data"
    }
   ],
   "source": [
    "plt.figure(figsize=(10,8))\n",
    "ax = sns.countplot(x='hour', data=df)"
   ]
  },
  {
   "cell_type": "code",
   "execution_count": 43,
   "metadata": {},
   "outputs": [
    {
     "data": {
      "image/png": "[encoded data removed]",
      "text/plain": [
       "<Figure size 2160x720 with 1 Axes>"
      ]
     },
     "metadata": {
      "needs_background": "light"
     },
     "output_type": "display_data"
    }
   ],
   "source": [
    "plt.figure(figsize=(30,10))\n",
    "ax = sns.countplot(x='hour', hue=\"day_of_week\", data=df)"
   ]
  },
  {
   "cell_type": "code",
   "execution_count": 44,
   "metadata": {},
   "outputs": [
    {
     "data": {
      "image/png": "[encoded data removed]",
      "text/plain": [
       "<Figure size 2160x720 with 1 Axes>"
      ]
     },
     "metadata": {
      "needs_background": "light"
     },
     "output_type": "display_data"
    }
   ],
   "source": [
    "plt.figure(figsize=(30,10))\n",
    "ax = sns.countplot(x='day_of_week', hue=\"hour\", data=df)"
   ]
  },
  {
   "cell_type": "code",
   "execution_count": 45,
   "metadata": {
    "scrolled": true
   },
   "outputs": [
    {
     "data": {
      "text/plain": [
       "doordash_help      65052\n",
       "doordash            9468\n",
       "bet                 4620\n",
       "jcraiderman         4296\n",
       "solg2004            2630\n",
       "rideshareaz         2516\n",
       "freelancedallas     2274\n",
       "b3eqwxnjptmbbnw     1988\n",
       "sahil_feda          1641\n",
       "afreaknamedali      1442\n",
       "Name: username, dtype: int64"
      ]
     },
     "execution_count": 45,
     "metadata": {},
     "output_type": "execute_result"
    }
   ],
   "source": [
    "df['username'].value_counts().head(10)"
   ]
  },
  {
   "cell_type": "code",
   "execution_count": 46,
   "metadata": {
    "scrolled": true
   },
   "outputs": [
    {
     "data": {
      "text/plain": [
       "12"
      ]
     },
     "execution_count": 46,
     "metadata": {},
     "output_type": "execute_result"
    }
   ],
   "source": [
    "df.duplicated().sum()"
   ]
  },
  {
   "cell_type": "code",
   "execution_count": 47,
   "metadata": {
    "scrolled": true
   },
   "outputs": [
    {
     "data": {
      "text/html": [
       "<div>\n",
       "<style scoped>\n",
       "    .dataframe tbody tr th:only-of-type {\n",
       "        vertical-align: middle;\n",
       "    }\n",
       "\n",
       "    .dataframe tbody tr th {\n",
       "        vertical-align: top;\n",
       "    }\n",
       "\n",
       "    .dataframe thead th {\n",
       "        text-align: right;\n",
       "    }\n",
       "</style>\n",
       "<table border=\"1\" class=\"dataframe\">\n",
       "  <thead>\n",
       "    <tr style=\"text-align: right;\">\n",
       "      <th></th>\n",
       "      <th>date</th>\n",
       "      <th>time</th>\n",
       "      <th>username</th>\n",
       "      <th>tweet</th>\n",
       "      <th>date_dt</th>\n",
       "      <th>year</th>\n",
       "      <th>month_of_year</th>\n",
       "      <th>day_of_week</th>\n",
       "      <th>time_dt</th>\n",
       "      <th>hour</th>\n",
       "    </tr>\n",
       "  </thead>\n",
       "  <tbody>\n",
       "    <tr>\n",
       "      <th>219171</th>\n",
       "      <td>2020-10-25</td>\n",
       "      <td>14:08:31</td>\n",
       "      <td>lycanleopard</td>\n",
       "      <td>well that meal was a bit of a bust, my order w...</td>\n",
       "      <td>2020-10-25</td>\n",
       "      <td>2020</td>\n",
       "      <td>October</td>\n",
       "      <td>Sunday</td>\n",
       "      <td>1900-01-01 14:08:31</td>\n",
       "      <td>14</td>\n",
       "    </tr>\n",
       "    <tr>\n",
       "      <th>311629</th>\n",
       "      <td>2020-09-14</td>\n",
       "      <td>02:38:43</td>\n",
       "      <td>tiana2237</td>\n",
       "      <td>Stop and read 🛑 get free $7 using this link   ...</td>\n",
       "      <td>2020-09-14</td>\n",
       "      <td>2020</td>\n",
       "      <td>September</td>\n",
       "      <td>Monday</td>\n",
       "      <td>1900-01-01 02:38:43</td>\n",
       "      <td>2</td>\n",
       "    </tr>\n",
       "    <tr>\n",
       "      <th>311630</th>\n",
       "      <td>2020-09-14</td>\n",
       "      <td>02:38:43</td>\n",
       "      <td>tiana2237</td>\n",
       "      <td>Stop and read 🛑 get free $7 using this link   ...</td>\n",
       "      <td>2020-09-14</td>\n",
       "      <td>2020</td>\n",
       "      <td>September</td>\n",
       "      <td>Monday</td>\n",
       "      <td>1900-01-01 02:38:43</td>\n",
       "      <td>2</td>\n",
       "    </tr>\n",
       "    <tr>\n",
       "      <th>821163</th>\n",
       "      <td>2020-01-25</td>\n",
       "      <td>15:14:48</td>\n",
       "      <td>flakyfool</td>\n",
       "      <td>@FoodCIips If you use code  https://t.co/Gg0Z8...</td>\n",
       "      <td>2020-01-25</td>\n",
       "      <td>2020</td>\n",
       "      <td>January</td>\n",
       "      <td>Saturday</td>\n",
       "      <td>1900-01-01 15:14:48</td>\n",
       "      <td>15</td>\n",
       "    </tr>\n",
       "    <tr>\n",
       "      <th>888566</th>\n",
       "      <td>2019-12-07</td>\n",
       "      <td>13:52:53</td>\n",
       "      <td>dev7810</td>\n",
       "      <td>FREE $20 OFF DOORDASH PROMO CODE CODE #doordas...</td>\n",
       "      <td>2019-12-07</td>\n",
       "      <td>2019</td>\n",
       "      <td>December</td>\n",
       "      <td>Saturday</td>\n",
       "      <td>1900-01-01 13:52:53</td>\n",
       "      <td>13</td>\n",
       "    </tr>\n",
       "    <tr>\n",
       "      <th>888567</th>\n",
       "      <td>2019-12-07</td>\n",
       "      <td>13:52:53</td>\n",
       "      <td>dev7810</td>\n",
       "      <td>FREE $20 OFF DOORDASH PROMO CODE CODE #doordas...</td>\n",
       "      <td>2019-12-07</td>\n",
       "      <td>2019</td>\n",
       "      <td>December</td>\n",
       "      <td>Saturday</td>\n",
       "      <td>1900-01-01 13:52:53</td>\n",
       "      <td>13</td>\n",
       "    </tr>\n",
       "    <tr>\n",
       "      <th>888569</th>\n",
       "      <td>2019-12-07</td>\n",
       "      <td>13:52:52</td>\n",
       "      <td>dev7810</td>\n",
       "      <td>FREE $20 OFF DOORDASH PROMO CODE CODE #doordas...</td>\n",
       "      <td>2019-12-07</td>\n",
       "      <td>2019</td>\n",
       "      <td>December</td>\n",
       "      <td>Saturday</td>\n",
       "      <td>1900-01-01 13:52:52</td>\n",
       "      <td>13</td>\n",
       "    </tr>\n",
       "    <tr>\n",
       "      <th>888571</th>\n",
       "      <td>2019-12-07</td>\n",
       "      <td>13:52:51</td>\n",
       "      <td>dev7810</td>\n",
       "      <td>FREE $20 OFF DOORDASH PROMO CODE CODE #doordas...</td>\n",
       "      <td>2019-12-07</td>\n",
       "      <td>2019</td>\n",
       "      <td>December</td>\n",
       "      <td>Saturday</td>\n",
       "      <td>1900-01-01 13:52:51</td>\n",
       "      <td>13</td>\n",
       "    </tr>\n",
       "    <tr>\n",
       "      <th>888573</th>\n",
       "      <td>2019-12-07</td>\n",
       "      <td>13:52:51</td>\n",
       "      <td>dev7810</td>\n",
       "      <td>FREE $20 OFF DOORDASH PROMO CODE CODE  https:/...</td>\n",
       "      <td>2019-12-07</td>\n",
       "      <td>2019</td>\n",
       "      <td>December</td>\n",
       "      <td>Saturday</td>\n",
       "      <td>1900-01-01 13:52:51</td>\n",
       "      <td>13</td>\n",
       "    </tr>\n",
       "    <tr>\n",
       "      <th>888574</th>\n",
       "      <td>2019-12-07</td>\n",
       "      <td>13:52:51</td>\n",
       "      <td>dev7810</td>\n",
       "      <td>FREE $20 OFF DOORDASH PROMO CODE CODE  https:/...</td>\n",
       "      <td>2019-12-07</td>\n",
       "      <td>2019</td>\n",
       "      <td>December</td>\n",
       "      <td>Saturday</td>\n",
       "      <td>1900-01-01 13:52:51</td>\n",
       "      <td>13</td>\n",
       "    </tr>\n",
       "    <tr>\n",
       "      <th>888576</th>\n",
       "      <td>2019-12-07</td>\n",
       "      <td>13:52:50</td>\n",
       "      <td>dev7810</td>\n",
       "      <td>FREE $20 OFF DOORDASH PROMO CODE CODE  https:/...</td>\n",
       "      <td>2019-12-07</td>\n",
       "      <td>2019</td>\n",
       "      <td>December</td>\n",
       "      <td>Saturday</td>\n",
       "      <td>1900-01-01 13:52:50</td>\n",
       "      <td>13</td>\n",
       "    </tr>\n",
       "    <tr>\n",
       "      <th>1097135</th>\n",
       "      <td>2019-07-21</td>\n",
       "      <td>19:28:14</td>\n",
       "      <td>doordash_help</td>\n",
       "      <td>@Dreymeil Hi @Dreymeil, we apologize for this ...</td>\n",
       "      <td>2019-07-21</td>\n",
       "      <td>2019</td>\n",
       "      <td>July</td>\n",
       "      <td>Sunday</td>\n",
       "      <td>1900-01-01 19:28:14</td>\n",
       "      <td>19</td>\n",
       "    </tr>\n",
       "  </tbody>\n",
       "</table>\n",
       "</div>"
      ],
      "text/plain": [
       "               date      time       username  \\\n",
       "219171   2020-10-25  14:08:31   lycanleopard   \n",
       "311629   2020-09-14  02:38:43      tiana2237   \n",
       "311630   2020-09-14  02:38:43      tiana2237   \n",
       "821163   2020-01-25  15:14:48      flakyfool   \n",
       "888566   2019-12-07  13:52:53        dev7810   \n",
       "888567   2019-12-07  13:52:53        dev7810   \n",
       "888569   2019-12-07  13:52:52        dev7810   \n",
       "888571   2019-12-07  13:52:51        dev7810   \n",
       "888573   2019-12-07  13:52:51        dev7810   \n",
       "888574   2019-12-07  13:52:51        dev7810   \n",
       "888576   2019-12-07  13:52:50        dev7810   \n",
       "1097135  2019-07-21  19:28:14  doordash_help   \n",
       "\n",
       "                                                     tweet    date_dt  year  \\\n",
       "219171   well that meal was a bit of a bust, my order w... 2020-10-25  2020   \n",
       "311629   Stop and read 🛑 get free $7 using this link   ... 2020-09-14  2020   \n",
       "311630   Stop and read 🛑 get free $7 using this link   ... 2020-09-14  2020   \n",
       "821163   @FoodCIips If you use code  https://t.co/Gg0Z8... 2020-01-25  2020   \n",
       "888566   FREE $20 OFF DOORDASH PROMO CODE CODE #doordas... 2019-12-07  2019   \n",
       "888567   FREE $20 OFF DOORDASH PROMO CODE CODE #doordas... 2019-12-07  2019   \n",
       "888569   FREE $20 OFF DOORDASH PROMO CODE CODE #doordas... 2019-12-07  2019   \n",
       "888571   FREE $20 OFF DOORDASH PROMO CODE CODE #doordas... 2019-12-07  2019   \n",
       "888573   FREE $20 OFF DOORDASH PROMO CODE CODE  https:/... 2019-12-07  2019   \n",
       "888574   FREE $20 OFF DOORDASH PROMO CODE CODE  https:/... 2019-12-07  2019   \n",
       "888576   FREE $20 OFF DOORDASH PROMO CODE CODE  https:/... 2019-12-07  2019   \n",
       "1097135  @Dreymeil Hi @Dreymeil, we apologize for this ... 2019-07-21  2019   \n",
       "\n",
       "        month_of_year day_of_week             time_dt  hour  \n",
       "219171        October      Sunday 1900-01-01 14:08:31    14  \n",
       "311629      September      Monday 1900-01-01 02:38:43     2  \n",
       "311630      September      Monday 1900-01-01 02:38:43     2  \n",
       "821163        January    Saturday 1900-01-01 15:14:48    15  \n",
       "888566       December    Saturday 1900-01-01 13:52:53    13  \n",
       "888567       December    Saturday 1900-01-01 13:52:53    13  \n",
       "888569       December    Saturday 1900-01-01 13:52:52    13  \n",
       "888571       December    Saturday 1900-01-01 13:52:51    13  \n",
       "888573       December    Saturday 1900-01-01 13:52:51    13  \n",
       "888574       December    Saturday 1900-01-01 13:52:51    13  \n",
       "888576       December    Saturday 1900-01-01 13:52:50    13  \n",
       "1097135          July      Sunday 1900-01-01 19:28:14    19  "
      ]
     },
     "execution_count": 47,
     "metadata": {},
     "output_type": "execute_result"
    }
   ],
   "source": [
    "df[df.duplicated()==True]"
   ]
  },
  {
   "cell_type": "code",
   "execution_count": 51,
   "metadata": {},
   "outputs": [],
   "source": [
    "df = df.drop_duplicates()\n",
    "df = df.reset_index(drop=True)"
   ]
  },
  {
   "cell_type": "code",
   "execution_count": 52,
   "metadata": {
    "scrolled": true
   },
   "outputs": [
    {
     "name": "stdout",
     "output_type": "stream",
     "text": [
      "<class 'pandas.core.frame.DataFrame'>\n",
      "RangeIndex: 1349227 entries, 0 to 1349226\n",
      "Data columns (total 10 columns):\n",
      " #   Column         Non-Null Count    Dtype         \n",
      "---  ------         --------------    -----         \n",
      " 0   date           1349227 non-null  object        \n",
      " 1   time           1349227 non-null  object        \n",
      " 2   username       1349227 non-null  object        \n",
      " 3   tweet          1349227 non-null  object        \n",
      " 4   date_dt        1349227 non-null  datetime64[ns]\n",
      " 5   year           1349227 non-null  int64         \n",
      " 6   month_of_year  1349227 non-null  object        \n",
      " 7   day_of_week    1349227 non-null  object        \n",
      " 8   time_dt        1349227 non-null  datetime64[ns]\n",
      " 9   hour           1349227 non-null  int64         \n",
      "dtypes: datetime64[ns](2), int64(2), object(6)\n",
      "memory usage: 102.9+ MB\n"
     ]
    }
   ],
   "source": [
    "df.info()"
   ]
  },
  {
   "cell_type": "code",
   "execution_count": 53,
   "metadata": {},
   "outputs": [],
   "source": [
    "df.to_csv('clean_data.csv',index=False)"
   ]
  },
  {
   "cell_type": "code",
   "execution_count": null,
   "metadata": {},
   "outputs": [],
   "source": []
  }
 ],
 "metadata": {
  "kernelspec": {
   "display_name": "Python 3",
   "language": "python",
   "name": "python3"
  },
  "language_info": {
   "codemirror_mode": {
    "name": "ipython",
    "version": 3
   },
   "file_extension": ".py",
   "mimetype": "text/x-python",
   "name": "python",
   "nbconvert_exporter": "python",
   "pygments_lexer": "ipython3",
   "version": "3.7.6"
  }
 },
 "nbformat": 4,
 "nbformat_minor": 4
}
